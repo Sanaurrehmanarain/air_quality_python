from pprint import PrettyPrinter
import pandas as pd
from IPython.display import VimeoVideo
from pymongo import MongoClient

pp = PrettyPrinter(indent = 2)

client = MongoClient(host = "localhost", port = 27017)
na
pp.pprint(list(client.list_databases()))

db = client["air-quality"]

for c in db.list_collections():
    print(c["name"])

nairobi = db["nairobi"]

nairobi.count_documents({})

result = nairobi.find_one({})
pp.pprint(result)

nairobi.distinct("metadata.site")

